{
 "cells": [
  {
   "cell_type": "code",
   "execution_count": 1,
   "metadata": {
    "id": "4H9lrDJyA5pt"
   },
   "outputs": [],
   "source": [
    "import pandas as pd\n",
    "import warnings\n",
    "warnings.filterwarnings('ignore')\n",
    "\n",
    "from sklearn.model_selection import train_test_split\n",
    "from sklearn.metrics import accuracy_score\n",
    "\n",
    "from sklearn.linear_model import LogisticRegression\n",
    "from sklearn.tree import DecisionTreeClassifier\n",
    "from sklearn.svm import SVC\n",
    "from sklearn.neighbors import KNeighborsClassifier\n",
    "\n",
    "from sklearn.ensemble import RandomForestClassifier\n",
    "from xgboost import XGBClassifier\n",
    "\n",
    "seed=123"
   ]
  },
  {
   "cell_type": "markdown",
   "metadata": {
    "id": "kX3aiIKtmUJ3"
   },
   "source": [
    "# 1. Data Load"
   ]
  },
  {
   "cell_type": "code",
   "execution_count": 2,
   "metadata": {
    "id": "9HxLIMhvBGGo"
   },
   "outputs": [],
   "source": [
    "#https://www.kaggle.com/datasets/somesh24/spambase\n",
    "df = pd.read_csv(r\"data/spambase_csv.csv\")\n",
    "\n",
    "X= df.iloc[:,:-1]\n",
    "y = df.iloc[:,-1]\n",
    "\n",
    "X_train, X_test, y_train, y_test = train_test_split(X, y, test_size = 0.2, random_state = seed,stratify=y)"
   ]
  },
  {
   "cell_type": "markdown",
   "metadata": {
    "id": "GnKLt50Ml_fQ"
   },
   "source": [
    "# 2.Base Model training"
   ]
  },
  {
   "cell_type": "markdown",
   "metadata": {
    "id": "ZYT-x4T1maXR"
   },
   "source": [
    "## Logistic regression"
   ]
  },
  {
   "cell_type": "code",
   "execution_count": 3,
   "metadata": {
    "id": "WokhCNDCnW6t"
   },
   "outputs": [
    {
     "name": "stdout",
     "output_type": "stream",
     "text": [
      "LogReg accuracy_score:  0.9370249728555917\n"
     ]
    }
   ],
   "source": [
    "LogReg = LogisticRegression()\n",
    "LogReg.fit(X_train, y_train)\n",
    "y_pred_LogReg = LogReg.predict(X_test)\n",
    "\n",
    "LogReg_accuracy = accuracy_score(y_test, y_pred_LogReg)\n",
    "print(\"LogReg accuracy_score: \", LogReg_accuracy)"
   ]
  },
  {
   "cell_type": "markdown",
   "metadata": {
    "id": "cubnvkHH7JwT"
   },
   "source": [
    "## Decision tree"
   ]
  },
  {
   "cell_type": "code",
   "execution_count": 4,
   "metadata": {
    "id": "zgYj1vYw7FQl"
   },
   "outputs": [
    {
     "name": "stdout",
     "output_type": "stream",
     "text": [
      "DecTre accuracy_score:  0.9283387622149837\n"
     ]
    }
   ],
   "source": [
    "DecTre = DecisionTreeClassifier()\n",
    "DecTre.fit(X_train, y_train)\n",
    "y_pred_DecTre = DecTre.predict(X_test)\n",
    "\n",
    "DecTre_accuracy = accuracy_score(y_test, y_pred_DecTre)\n",
    "print(\"DecTre accuracy_score: \", DecTre_accuracy)"
   ]
  },
  {
   "cell_type": "markdown",
   "metadata": {
    "id": "wdKvkt5Q7N-r"
   },
   "source": [
    "## SVM"
   ]
  },
  {
   "cell_type": "code",
   "execution_count": 5,
   "metadata": {
    "id": "EoAOVB4a7Ng0"
   },
   "outputs": [
    {
     "name": "stdout",
     "output_type": "stream",
     "text": [
      "SVM accuracy :  0.7144408251900108\n"
     ]
    }
   ],
   "source": [
    "SVM = SVC()\n",
    "SVM.fit(X_train, y_train)\n",
    "y_pred_SVM = SVM.predict(X_test)\n",
    "\n",
    "SVM_accuracy = accuracy_score(y_test,y_pred_SVM)\n",
    "print(\"SVM accuracy : \", SVM_accuracy)"
   ]
  },
  {
   "cell_type": "markdown",
   "metadata": {
    "id": "QLX3ERHz7U3U"
   },
   "source": [
    "## KNC"
   ]
  },
  {
   "cell_type": "code",
   "execution_count": 6,
   "metadata": {
    "id": "QcczEV9h7Wl_"
   },
   "outputs": [
    {
     "name": "stdout",
     "output_type": "stream",
     "text": [
      "KNC accuracy :  0.8143322475570033\n"
     ]
    }
   ],
   "source": [
    "KNC = KNeighborsClassifier()\n",
    "KNC.fit(X_train, y_train)\n",
    "y_pred_KNC = KNC.predict(X_test)\n",
    "\n",
    "KNC_accuracy = accuracy_score(y_test,y_pred_KNC)\n",
    "print(\"KNC accuracy : \", KNC_accuracy)"
   ]
  },
  {
   "cell_type": "markdown",
   "metadata": {
    "id": "kZyAhxsQdSbO"
   },
   "source": [
    "## Random Forest"
   ]
  },
  {
   "cell_type": "code",
   "execution_count": 7,
   "metadata": {
    "id": "S8HvC3iedIw9"
   },
   "outputs": [
    {
     "name": "stdout",
     "output_type": "stream",
     "text": [
      "RanFor accuracy :  0.9522258414766558\n"
     ]
    }
   ],
   "source": [
    "RanFor = RandomForestClassifier()\n",
    "RanFor.fit(X_train, y_train)\n",
    "y_pred_RanFor = RanFor.predict(X_test)\n",
    "\n",
    "RanFor_accuracy = accuracy_score(y_test,y_pred_RanFor)\n",
    "print(\"RanFor accuracy : \", RanFor_accuracy)"
   ]
  },
  {
   "cell_type": "markdown",
   "metadata": {
    "id": "C3r3J1FBdb4P"
   },
   "source": [
    "## XGB"
   ]
  },
  {
   "cell_type": "code",
   "execution_count": 8,
   "metadata": {
    "id": "DnHuV7NfdUxL"
   },
   "outputs": [
    {
     "name": "stdout",
     "output_type": "stream",
     "text": [
      "XGB accuracy :  0.9543973941368078\n"
     ]
    }
   ],
   "source": [
    "XGB = XGBClassifier()\n",
    "XGB.fit(X_train, y_train)\n",
    "y_pred_XGB = XGB.predict(X_test)\n",
    "\n",
    "XGB_accuracy = accuracy_score(y_test,y_pred_XGB)\n",
    "print(\"XGB accuracy : \", XGB_accuracy)"
   ]
  },
  {
   "cell_type": "markdown",
   "metadata": {
    "id": "F4cAWipFdfsQ"
   },
   "source": [
    "## 종합 코드"
   ]
  },
  {
   "cell_type": "code",
   "execution_count": 9,
   "metadata": {
    "id": "IBbSG_YLdiyS"
   },
   "outputs": [
    {
     "name": "stdout",
     "output_type": "stream",
     "text": [
      "                    Model  Accuracy\n",
      "0      LogisticRegression  0.937025\n",
      "1  DecisionTreeClassifier  0.916395\n",
      "2                     SVC  0.714441\n",
      "3    KNeighborsClassifier  0.814332\n",
      "4  RandomForestClassifier  0.947883\n",
      "5           XGBClassifier  0.954397\n"
     ]
    }
   ],
   "source": [
    "model_list = [LogisticRegression(), DecisionTreeClassifier(), SVC(), KNeighborsClassifier(), RandomForestClassifier(), XGBClassifier()] # model 선언\n",
    "accuracy_list=[]\n",
    "model_name=[]\n",
    "for model in model_list:\n",
    "    model.fit(X_train, y_train)                 # model 학습\n",
    "    y_pred = model.predict(X_test)              # model 평가\n",
    "    accuracy = accuracy_score(y_test, y_pred)   # model 정확도 계산\n",
    "\n",
    "    accuracy_list.append(accuracy)              # model 결과 저장\n",
    "    model_name.append(model.__class__.__name__) # model 이름 저장\n",
    "\n",
    "#결과 출력\n",
    "result_df = pd.DataFrame({'Model': model_name, 'Accuracy': accuracy_list})\n",
    "print(result_df)"
   ]
  }
 ],
 "metadata": {
  "colab": {
   "authorship_tag": "ABX9TyOPpXwhdJyeoPgd0G1E0kBX",
   "mount_file_id": "1weIWX_K-vqHW3tnpDk0TcM8jpo35ZYxg",
   "private_outputs": true,
   "provenance": []
  },
  "kernelspec": {
   "display_name": "breast_cancer",
   "language": "python",
   "name": "python3"
  },
  "language_info": {
   "codemirror_mode": {
    "name": "ipython",
    "version": 3
   },
   "file_extension": ".py",
   "mimetype": "text/x-python",
   "name": "python",
   "nbconvert_exporter": "python",
   "pygments_lexer": "ipython3",
   "version": "3.10.15"
  }
 },
 "nbformat": 4,
 "nbformat_minor": 0
}
